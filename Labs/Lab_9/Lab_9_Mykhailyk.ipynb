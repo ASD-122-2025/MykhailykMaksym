{
 "cells": [
  {
   "cell_type": "markdown",
   "id": "1c97b977-bb62-45c2-8028-0b89176728b9",
   "metadata": {},
   "source": [
    "# Лабораторна робота №9"
   ]
  },
  {
   "cell_type": "markdown",
   "id": "710096c7-e7ea-44cd-989a-55effb8436ca",
   "metadata": {},
   "source": [
    "## Тема: Алгоритми на рядках\n",
    "## Мета: Освоїти низку основних алгоритмів на рядках засобами мови Python."
   ]
  },
  {
   "cell_type": "markdown",
   "id": "81078a1c-c086-4d7f-81da-a3b7b71c1b78",
   "metadata": {},
   "source": [
    "## 1. Ознайомитися з короткими теоритичними відомостями."
   ]
  },
  {
   "cell_type": "markdown",
   "id": "48526b70-4f7a-470e-91a6-799e1604778c",
   "metadata": {},
   "source": [
    "## 2. Повторити код, наведений в лабораторній роботі для довільних рядків."
   ]
  },
  {
   "cell_type": "markdown",
   "id": "660fae76-9b7c-463e-84ca-ea0bc430f87c",
   "metadata": {},
   "source": [
    "## Наївний пошук шаблонів"
   ]
  },
  {
   "cell_type": "code",
   "execution_count": 30,
   "id": "0beb11eb-03a9-4db3-992f-116eb470e1cb",
   "metadata": {},
   "outputs": [
    {
     "data": {
      "text/plain": [
       "[7]"
      ]
     },
     "execution_count": 30,
     "metadata": {},
     "output_type": "execute_result"
    }
   ],
   "source": [
    "def naive_match(p, t):\n",
    "    assert len(p) <= len(t) # припускаємо, що довжина шаблону не більша за довжину тексту\n",
    "    occurrences = []\n",
    "    for i in range(0, len(t)-len(p)+1): # для кожного вирівнювання шаблону на текст\n",
    "        match = True # припускаємо, що є збіг, доки не доведено зворотнє\n",
    "        for j in range(0, len(p)): # для кожної позиції шаблону\n",
    "            if t[i+j] != p[j]:\n",
    "                match = False # принаймні один символ не збігається\n",
    "                break\n",
    "            if match:\n",
    "                occurrences.append(i)\n",
    "                return occurrences\n",
    "naive_match('needle', 'bebebbeneedle')"
   ]
  },
  {
   "cell_type": "markdown",
   "id": "88476ec7-1eea-449b-8a47-84d504f2edbf",
   "metadata": {},
   "source": [
    "## Z-функція"
   ]
  },
  {
   "cell_type": "code",
   "execution_count": 32,
   "id": "48aa5f99-301c-4852-bf65-494d624115cb",
   "metadata": {},
   "outputs": [
    {
     "name": "stdout",
     "output_type": "stream",
     "text": [
      "[13, 0, 0, 1, 0, 0, 0, 0, 1, 0, 0, 1, 0, 0]\n"
     ]
    }
   ],
   "source": [
    "def z_func(s):\n",
    "    # Ініціалізуємо масив Z, в якому будемо зберігати значення Z-функції\n",
    "    Z = [len(s)] + [0] * len(s) # Встановлюємо довжину рядка s у першому елементі масиву Z, а решту заповнюємо нулями\n",
    "    if len(s) <= 1:\n",
    "        return [len(s)] + [0] * len(s)\n",
    "\n",
    "    # Початкова порівняння s[1:] з префіксом\n",
    "    match = 0\n",
    "    for i in range(1, len(s)):\n",
    "        if s[i] == s[i - 1]:\n",
    "            match += 1\n",
    "        else:\n",
    "            break\n",
    "    Z[1] = match\n",
    "\n",
    "    # Встановлюємо значення змінних r і l\n",
    "    r, l = 0, 0\n",
    "    if Z[1] > 0:\n",
    "        r, l = Z[1], 1\n",
    "\n",
    "    # Обчислення Z-функції для кожного k від 2 до довжини рядка s\n",
    "    for k in range(2, len(s)):\n",
    "        if k > r:\n",
    "            # Випадок 1: k за межами поточного діапазону [l, r]\n",
    "            match = 0\n",
    "            for i in range(k, len(s)):\n",
    "                if s[i] == s[i - k]:\n",
    "                    match += 1\n",
    "                else:\n",
    "                    break\n",
    "            Z[k] = match\n",
    "            r, l = k + Z[k] - 1, k\n",
    "        else:\n",
    "            # Випадок 2: k знаходиться всередині поточного діапазону [l, r]\n",
    "            # Обчислюємо довжину бета (nbeta) та значення Z-функції на попередньому кроці (Zkp)\n",
    "            nbeta = r - k + 1\n",
    "            Zkp = Z[k - l]\n",
    "            if nbeta > Zkp:\n",
    "                # Підвипадок 2а: Zkp виграє\n",
    "                Z[k] = Zkp\n",
    "            else:\n",
    "                # Підвипадок 2б: Порівнюємо символи, що знаходяться безпосередньо після r\n",
    "                nmatch = 0\n",
    "                for i in range(r + 1, len(s)):\n",
    "                    if s[i] == s[i - k]:\n",
    "                        nmatch += 1\n",
    "                    else:\n",
    "                        break\n",
    "                l, r = k, r + nmatch\n",
    "                Z[k] = r - k + 1\n",
    "    return Z\n",
    "\n",
    "print(z_func('admalkmlamfal'))"
   ]
  },
  {
   "cell_type": "markdown",
   "id": "b980aa67-11ed-4f5e-8f91-def1b5c63504",
   "metadata": {},
   "source": [
    "## Пошук підрядка в рядку"
   ]
  },
  {
   "cell_type": "code",
   "execution_count": 34,
   "id": "58ca752b-6c93-49b0-9f9a-ec896160f0fb",
   "metadata": {},
   "outputs": [
    {
     "name": "stdout",
     "output_type": "stream",
     "text": [
      "[15, 0, 0, 1, 0, 0, 0, 1, 0, 0, 0, 0, 1, 0, 0, 0]\n"
     ]
    }
   ],
   "source": [
    "def z_func(s):\n",
    "    # Ініціалізуємо масив Z, в якому будемо зберігати значення Z-функції\n",
    "    Z = [len(s)] + [0] * len(s) # Встановлюємо довжину рядка s у першому елементі масиву Z, а решту заповнюємо нулями\n",
    "    if len(s) <= 1:\n",
    "        return [len(s)] + [0] * len(s)\n",
    "\n",
    "    # Початкова порівняння s[1:] з префіксом\n",
    "    match = 0\n",
    "    for i in range(1, len(s)):\n",
    "        if s[i] == s[i - 1]:\n",
    "            match += 1\n",
    "        else:\n",
    "            break\n",
    "    Z[1] = match\n",
    "\n",
    "    # Встановлюємо значення змінних r і l\n",
    "    r, l = 0, 0\n",
    "    if Z[1] > 0:\n",
    "        r, l = Z[1], 1\n",
    "\n",
    "    # Обчислення Z-функції для кожного k від 2 до довжини рядка s\n",
    "    for k in range(2, len(s)):\n",
    "        if k > r:\n",
    "            # Випадок 1: k за межами поточного діапазону [l, r]\n",
    "            match = 0\n",
    "            for i in range(k, len(s)):\n",
    "                if s[i] == s[i - k]:\n",
    "                    match += 1\n",
    "                else:\n",
    "                    break\n",
    "            Z[k] = match\n",
    "            r, l = k + Z[k] - 1, k\n",
    "        else:\n",
    "            # Випадок 2: k знаходиться всередині поточного діапазону [l, r]\n",
    "            # Обчислюємо довжину бета (nbeta) та значення Z-функції на попередньому кроці (Zkp)\n",
    "            nbeta = r - k + 1\n",
    "            Zkp = Z[k - l]\n",
    "            if nbeta > Zkp:\n",
    "                # Підвипадок 2а: Zkp виграє\n",
    "                Z[k] = Zkp\n",
    "            else:\n",
    "                # Підвипадок 2б: Порівнюємо символи, що знаходяться безпосередньо після r\n",
    "                nmatch = 0\n",
    "                for i in range(r + 1, len(s)):\n",
    "                    if s[i] == s[i - k]:\n",
    "                        nmatch += 1\n",
    "                    else:\n",
    "                        break\n",
    "                l, r = k, r + nmatch\n",
    "                Z[k] = r - k + 1\n",
    "    return Z\n",
    "\n",
    "def zMatch(p, t):\n",
    "    # Формуємо розширений рядок s, де p – це шаблон, а t – текст, який\n",
    "    # шукаємо.\n",
    "    s = p + \"$\" + t\n",
    "\n",
    "    # Обчислюємо масив Z для рядка s.\n",
    "    Z = z_func(s)\n",
    "\n",
    "    # Ініціалізуємо список occurrences для зберігання позицій, де\n",
    "    # відбувається збіг з шаблоном.\n",
    "    occurrences = []\n",
    "\n",
    "    # Проходимо по всім позиціям збігу шаблону з текстом у рядку s.\n",
    "    # Починаємо з позиції, що відповідає кінцю шаблону (len(p) + 1) і до\n",
    "    # кінця рядка s.\n",
    "    for i in range(len(p) + 1, len(s)):\n",
    "        # Якщо значення Z на поточній позиції рівне довжині шаблону, то це\n",
    "        # означає, що відбувся збіг.\n",
    "        if Z[i] == len(p):\n",
    "            # Додаємо позицію, де відбувся збіг, до списку occurrences.\n",
    "            # Позиція розраховується як i – (len(p) + 1), оскільки ми\n",
    "            # розглядаємо розширений рядок s,\n",
    "            # де шаблон p розташований на початку, перед \"$\".\n",
    "            occurrences.append(i - (len(p) + 1))\n",
    "\n",
    "    # Повертаємо список знайдених збігів.\n",
    "    return occurrences\n",
    "\n",
    "t, p = \"аоулаодіадіа\", \"оу\"\n",
    "calculated_z = z_func(\"афіатілатілдатд\")\n",
    "print(calculated_z)"
   ]
  },
  {
   "cell_type": "markdown",
   "id": "33fc291c-e5f0-4bf0-a962-f2d31834ee40",
   "metadata": {},
   "source": [
    "## Стиснення рядка"
   ]
  },
  {
   "cell_type": "code",
   "execution_count": 36,
   "id": "6c556e70-4314-482d-b4b2-5c28e532868d",
   "metadata": {},
   "outputs": [
    {
     "name": "stdout",
     "output_type": "stream",
     "text": [
      "[18, 0, 16, 0, 14, 0, 12, 0, 10, 0, 8, 0, 6, 0, 4, 0, 2, 0, 0]\n",
      "пу\n"
     ]
    }
   ],
   "source": [
    "def compress_with_z(s):\n",
    " # Обчислюємо Z-вектор для рядка s\n",
    " z_vec = z_func(s)\n",
    " \n",
    " # Проходимо по елементам Z-вектора, починаючи з індексу 1\n",
    " for i in range(1, len(s)):\n",
    " # Перевіряємо, чи виконуються умови для оптимального стиснення\n",
    "  if (i + z_vec[i] == len(s)) and (z_vec[i] % i == 0):\n",
    " # Якщо умови виконуються, повертаємо частину рядка s, яка буде стиснута\n",
    "   return s[:i]\n",
    " \n",
    " # Якщо жодна пара (i, z_vec[i]) не відповідає умовам, повертаємо вихідний рядок s без змін\n",
    " else:\n",
    "  return s\n",
    "s = \"пупупупупупупупупу\"\n",
    "print(z_func(s))\n",
    "print(compress_with_z(s))"
   ]
  },
  {
   "cell_type": "markdown",
   "id": "1c1bb571-6ef8-44ca-88cf-2ab23fa77fe9",
   "metadata": {},
   "source": [
    "## 3. Пояснити асимптотику наївного алгоритму пошуку підрядка."
   ]
  },
  {
   "cell_type": "markdown",
   "id": "ad61c270-da1b-40d5-b954-a1c67bdf1147",
   "metadata": {},
   "source": [
    "### В найгіршому випадку асимптотика наївного алгоритму дорівнює - О(n*m), оскільки нам приходиться проходити обидва рядки повністю і робоити с кожним символом порівняння. \n",
    "### В найркащому випадку асимптотика дорівнює  - O(n), оскільки ми с першого проходу отримуємо результат.\n",
    "### В звичайному випадку частіше за все ми будемо бачити щось приблизно схоже на O(n*m)."
   ]
  },
  {
   "cell_type": "markdown",
   "id": "c159562e-3bfe-484a-b9e2-8b1c8cb34475",
   "metadata": {},
   "source": [
    "## 4. Обчислити асимптотичну складність алгоритму стиснення рядка за допомогою 𝑧-функції."
   ]
  },
  {
   "cell_type": "markdown",
   "id": "120dbf05-fcc2-4ca2-bbbb-a05abd9af057",
   "metadata": {},
   "source": [
    "### Стиснення рядка цим методом відбувається посимвольним перебиранням рядка зліва направо, в будь яких випадках алгоритм пройде по кожному символу максимум два рази, отже ніяких важких факторів - стабільне O(n)."
   ]
  },
  {
   "cell_type": "markdown",
   "id": "b0dcac8c-4b4e-4ec9-885f-08b55f74f911",
   "metadata": {},
   "source": [
    "## 5. Контрольні запитання"
   ]
  },
  {
   "cell_type": "markdown",
   "id": "5c5a3052-8948-4682-943e-7654df1bb3db",
   "metadata": {},
   "source": [
    "### 1. Префікс функція - це довжина найбільшого власного префікса, що є суфіксом, Z - функція - це довжина найбільшого префікса, що збігається з підрядком з i.\n",
    "### 2. Z - функція - це інструмент для ефективного розпізнавання повторюваних шаблонів, префіксів, а також для швидкого пошуку підрядків у тексті. Її використовують у багатьох класичних задачах алгоритмів на рядках.\n",
    "### 3. Z-функція , динамічне програмування та суфіксні дерева.\n",
    "### 4. Пошук ключових слів, знаходженя схожих моментів в текстах, стиснення тексту, машинний переклад , вирівнювання рядків."
   ]
  },
  {
   "cell_type": "markdown",
   "id": "6b2a76e0-9028-4674-9460-03eed159929f",
   "metadata": {},
   "source": [
    "## Висновок"
   ]
  },
  {
   "cell_type": "markdown",
   "id": "806fb2bd-77f2-4044-be9d-11b44fca8808",
   "metadata": {},
   "source": [
    "### Під час цієї лабораторної роботи ми освоїли низку основних алгоритмів на рядках засобами мови Python."
   ]
  }
 ],
 "metadata": {
  "kernelspec": {
   "display_name": "Python [conda env:Mykhailyk_OpenCV]",
   "language": "python",
   "name": "conda-env-Mykhailyk_OpenCV-py"
  },
  "language_info": {
   "codemirror_mode": {
    "name": "ipython",
    "version": 3
   },
   "file_extension": ".py",
   "mimetype": "text/x-python",
   "name": "python",
   "nbconvert_exporter": "python",
   "pygments_lexer": "ipython3",
   "version": "3.13.2"
  }
 },
 "nbformat": 4,
 "nbformat_minor": 5
}
