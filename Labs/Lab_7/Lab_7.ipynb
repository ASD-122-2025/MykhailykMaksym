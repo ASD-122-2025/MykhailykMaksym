{
 "cells": [
  {
   "cell_type": "markdown",
   "id": "6ac24e0b-35a7-465d-9c7d-11420aa17452",
   "metadata": {},
   "source": [
    "# Лабораторна робота №7"
   ]
  },
  {
   "cell_type": "markdown",
   "id": "0aa9c6fc-44be-4155-b32a-0422c8d7860d",
   "metadata": {},
   "source": [
    "## Тема: Структури даних дерево, купа, геш-таблиця\n",
    "## Мета: засвоїти основні функції та алгоритми роботи з деревами та купою засобами Python."
   ]
  },
  {
   "cell_type": "markdown",
   "id": "8976b7e1-6000-4cf4-b9a8-b42c246fc759",
   "metadata": {},
   "source": [
    "## 1. Опрацювати короткі теоретичні відомості."
   ]
  },
  {
   "cell_type": "markdown",
   "id": "c96232a7-3d07-4bcf-b8f3-db76be6f9937",
   "metadata": {},
   "source": [
    "## 2.Створити бінарне дерево згідно з варіантом, виданим викладачем."
   ]
  },
  {
   "cell_type": "code",
   "execution_count": 18,
   "id": "984983bb-b6bd-4c2c-bca7-3d1c6c5a82fd",
   "metadata": {},
   "outputs": [],
   "source": [
    "tree = [\n",
    "    'a',                          \n",
    "    ['b',                         \n",
    "        ['d', ['e', [], []], []], \n",
    "        []                        \n",
    "    ],\n",
    "    ['c',                         \n",
    "        ['f', [], []],            \n",
    "        ['g', [], []]             \n",
    "    ]\n",
    "]"
   ]
  },
  {
   "cell_type": "markdown",
   "id": "8510aab7-f014-4383-9202-1f5067fdda1f",
   "metadata": {},
   "source": [
    "## 3. Написати процедуру видалення заданої гілки дерева."
   ]
  },
  {
   "cell_type": "code",
   "execution_count": 20,
   "id": "5e43232e-5730-4324-99fb-1d7215c2b385",
   "metadata": {},
   "outputs": [],
   "source": [
    "def delete_branch(tree, target):\n",
    "    \n",
    "    if not tree or tree == []:\n",
    "        return tree\n",
    "\n",
    "    if tree[0] == target:\n",
    "        return [] \n",
    "\n",
    "    tree[1] = delete_branch(tree[1], target)\n",
    "    tree[2] = delete_branch(tree[2], target)\n",
    "\n",
    "    return tree\n"
   ]
  },
  {
   "cell_type": "markdown",
   "id": "f1404b42-36dc-4c94-929a-daf09b023814",
   "metadata": {},
   "source": [
    "## 4. Оцінити асимптотичну складність (в середньому і в найгіршому випадку) процедур search, insert і delete роботи з деревом."
   ]
  },
  {
   "cell_type": "markdown",
   "id": "e2159654-1837-4b56-9a36-1d082efbc08d",
   "metadata": {},
   "source": [
    "### Search - Асимптотична складність цього алгоритму в найгіршому випадку - O(n), оскільки ми проходимо кожну гілку щоб дійти до потрібної. В середньому випадку - O(log n), зазвичай ми проходимо до приблизно середини. \n",
    "### Insert - Асимптотична складність цього алгоритму в найгіршому випадку - O(n), оскільки ми проходимо кожну гілку щоб зробити вставку на потрібній. В середньому випадку - O(log n), зазвичай ми проходимо до приблизно середини. \n",
    "### Delete - Асимптотична складність цього алгоритму в найгіршому випадку - O(n), оскільки ми проходимо кожну гілку щоб видалити потрібну гілку. В середньому випадку - O(log n), зазвичай ми проходимо до приблизно середини. "
   ]
  },
  {
   "cell_type": "markdown",
   "id": "f09fff27-d99a-45ad-9fdc-603596ab8904",
   "metadata": {},
   "source": [
    "## 5. Написати процедуру генерації купи з будь-якого рандомного масива."
   ]
  },
  {
   "cell_type": "code",
   "execution_count": 24,
   "id": "ce19d7e5-3f21-437c-8f91-1f015036545e",
   "metadata": {},
   "outputs": [],
   "source": [
    "def heapify(arr, n, i):\n",
    "    largest = i        \n",
    "    left = 2 * i + 1   \n",
    "    right = 2 * i + 2  \n",
    "\n",
    "    if left < n and arr[left] > arr[largest]:\n",
    "        largest = left\n",
    "\n",
    "    if right < n and arr[right] > arr[largest]:\n",
    "        largest = right\n",
    "\n",
    "    if largest != i:\n",
    "        arr[i], arr[largest] = arr[largest], arr[i]  \n",
    "        heapify(arr, n, largest)\n",
    "\n",
    "def build_heap(arr):\n",
    "    n = len(arr)\n",
    "    for i in range(n // 2 - 1, -1, -1):\n",
    "        heapify(arr, n, i)\n",
    "    return arr"
   ]
  },
  {
   "cell_type": "markdown",
   "id": "0d096a57-79b1-43c8-83cc-31c27b804808",
   "metadata": {},
   "source": [
    "## 6. Додати до нього елемент, який дорівнює вашому порядковому номеру у списку групи."
   ]
  },
  {
   "cell_type": "code",
   "execution_count": 26,
   "id": "ec585d56-ace3-4686-b7e6-1ba2a6e76d50",
   "metadata": {},
   "outputs": [
    {
     "name": "stdout",
     "output_type": "stream",
     "text": [
      "Початковий масив: [83, 12, 54, 23, 10, 79, 66, 66, 61, 35]\n",
      "Макс-купа: [83, 66, 79, 61, 35, 54, 66, 23, 12, 10]\n",
      "Купа після вставки: [83, 66, 79, 61, 35, 54, 66, 23, 12, 10, 16]\n"
     ]
    }
   ],
   "source": [
    "import random\n",
    "\n",
    "def heapify(arr, n, i):\n",
    "    largest = i\n",
    "    left = 2 * i + 1\n",
    "    right = 2 * i + 2\n",
    "\n",
    "    if left < n and arr[left] > arr[largest]:\n",
    "        largest = left\n",
    "    if right < n and arr[right] > arr[largest]:\n",
    "        largest = right\n",
    "    if largest != i:\n",
    "        arr[i], arr[largest] = arr[largest], arr[i]\n",
    "        heapify(arr, n, largest)\n",
    "\n",
    "def build_heap(arr):\n",
    "    n = len(arr)\n",
    "    for i in range(n // 2 - 1, -1, -1):\n",
    "        heapify(arr, n, i)\n",
    "    return arr\n",
    "\n",
    "def insert_to_heap(heap, value):\n",
    "    heap.append(value)\n",
    "    i = len(heap) - 1\n",
    "    parent = (i - 1) // 2\n",
    "    while i > 0 and heap[i] > heap[parent]:\n",
    "        heap[i], heap[parent] = heap[parent], heap[i]\n",
    "        i = parent\n",
    "        parent = (i - 1) // 2\n",
    "\n",
    "arr = [random.randint(1, 100) for _ in range(10)]\n",
    "print(\"Початковий масив:\", arr)\n",
    "\n",
    "build_heap(arr)\n",
    "print(\"Макс-купа:\", arr)\n",
    "\n",
    "insert_to_heap(arr, 16)\n",
    "print(\"Купа після вставки:\", arr)\n"
   ]
  },
  {
   "cell_type": "markdown",
   "id": "81f64ebf-ec21-4542-ac42-a0360a2e5c01",
   "metadata": {},
   "source": [
    "## 7. − Вилучити максимальний елемент з купи."
   ]
  },
  {
   "cell_type": "code",
   "execution_count": 28,
   "id": "cb5896a6-2fad-4625-a7f9-c5b3fe421962",
   "metadata": {},
   "outputs": [],
   "source": [
    "def delete_max(heap):\n",
    "    n = len(heap)\n",
    "    if n == 0:\n",
    "        return None  \n",
    "\n",
    "    max_element = heap[0]\n",
    "    heap[0] = heap[-1]     \n",
    "    heap.pop()             \n",
    "    heapify(heap, len(heap), 0)  \n",
    "    return max_element"
   ]
  },
  {
   "cell_type": "markdown",
   "id": "b98eb463-fa5c-45b1-b8a7-525822e0d8ab",
   "metadata": {},
   "source": [
    "## 8. Оцінити асимптотичну складність (у середньому і в найгіршому випадку) процедур search, insert і delete роботи з купою."
   ]
  },
  {
   "cell_type": "markdown",
   "id": "4ead2a2a-db1a-46d3-83a9-ec84de91fb62",
   "metadata": {},
   "source": [
    "### Search - Асимптотична складність цього алгоритму у найгіршому випадку - O(n), ми проходимо всю купу. Середній випадок - O(n), оскільки пошук вимагає перегляду всієї купи.\n",
    "### Insert - Асимптотична складність цього алгоритму у найгіршому випадку - O(log n), бо ми вставляємо елемент в кінець купи після чого він сортується між іншими елементами.Середній випадок - O(log n) , аналогічно найгіршому випадку.\n",
    "### Delete - Асимптотична складність цього алгоритму у найгіршому випадку - O(log n), бо ми видаляємо елемент(зазвичай це корінь або мінімальне значення) після чого відбувається зсув і після цього сортування купи. Середній випадок - O(log n), аналогічно найгіршому випадку."
   ]
  },
  {
   "cell_type": "markdown",
   "id": "edf33d88-bc89-4267-95a5-4ad43dcdc977",
   "metadata": {},
   "source": [
    "## 9. Реалізуйте геш-таблицю з ланцюжковим гешуванням."
   ]
  },
  {
   "cell_type": "code",
   "execution_count": 32,
   "id": "8485026b-3555-4ce8-90d6-b903e6a91396",
   "metadata": {},
   "outputs": [],
   "source": [
    "class HashTable:\n",
    "    def __init__(self, size=10):\n",
    "        self.size = size\n",
    "        self.table = [[] for _ in range(self.size)]\n",
    "\n",
    "    def _hash(self, key):\n",
    "        return hash(key) % self.size\n",
    "\n",
    "    def insert(self, key, value):\n",
    "        index = self._hash(key)\n",
    "        bucket = self.table[index]\n",
    "\n",
    "        for i, (k, v) in enumerate(bucket):\n",
    "            if k == key:\n",
    "                bucket[i] = (key, value)\n",
    "                return\n",
    "        bucket.append((key, value))  \n",
    "        \n",
    "    def search(self, key):\n",
    "        index = self._hash(key)\n",
    "        bucket = self.table[index]\n",
    "\n",
    "        for k, v in bucket:\n",
    "            if k == key:\n",
    "                return v\n",
    "        return None \n",
    "\n",
    "    def delete(self, key):\n",
    "        index = self._hash(key)\n",
    "        bucket = self.table[index]\n",
    "\n",
    "        for i, (k, v) in enumerate(bucket):\n",
    "            if k == key:\n",
    "                del bucket[i]\n",
    "                return True\n",
    "        return False\n",
    "\n",
    "    def display(self):\n",
    "        for i, bucket in enumerate(self.table):\n",
    "            print(f\"{i}: {bucket}\")"
   ]
  },
  {
   "cell_type": "markdown",
   "id": "4af338eb-ec8a-491c-9b19-451b9c4e0a57",
   "metadata": {},
   "source": [
    "## 10. Перевірити працездатність геш-таблиці з різними типами даних."
   ]
  },
  {
   "cell_type": "code",
   "execution_count": 34,
   "id": "98b0b687-5c25-46e1-b64d-0239afe58829",
   "metadata": {},
   "outputs": [
    {
     "name": "stdout",
     "output_type": "stream",
     "text": [
      "0: [('ключ', 'значення')]\n",
      "1: [(1, 'один')]\n",
      "2: [(42, 'відповідь')]\n",
      "3: []\n",
      "4: []\n",
      "5: [('dict', {'a': 1, 'b': 2})]\n",
      "6: []\n",
      "7: [('list', [1, 2, 3])]\n",
      "8: [('obj', Person(name=Андрій))]\n",
      "9: [('hello', 12345)]\n",
      "Search 42: відповідь\n",
      "Search 'hello': 12345\n",
      "Search 'dict': {'a': 1, 'b': 2}\n",
      "Search 'obj': Person(name=Андрій)\n"
     ]
    }
   ],
   "source": [
    "ht = HashTable(size=10)\n",
    "\n",
    "ht.insert(1, \"один\")\n",
    "ht.insert(42, \"відповідь\")\n",
    "\n",
    "ht.insert(\"ключ\", \"значення\")\n",
    "ht.insert(\"hello\", 12345)\n",
    "\n",
    "ht.insert(\"list\", [1, 2, 3])\n",
    "ht.insert(\"dict\", {\"a\": 1, \"b\": 2})\n",
    "\n",
    "class Person:\n",
    "    def __init__(self, name):\n",
    "        self.name = name\n",
    "    def __repr__(self):\n",
    "        return f\"Person(name={self.name})\"\n",
    "\n",
    "person = Person(\"Андрій\")\n",
    "ht.insert(\"obj\", person)\n",
    "\n",
    "ht.display()\n",
    "\n",
    "print(\"Search 42:\", ht.search(42))\n",
    "print(\"Search 'hello':\", ht.search(\"hello\"))\n",
    "print(\"Search 'dict':\", ht.search(\"dict\"))\n",
    "print(\"Search 'obj':\", ht.search(\"obj\"))\n"
   ]
  },
  {
   "cell_type": "markdown",
   "id": "26f03364-d78a-4f70-9114-75a628353cbd",
   "metadata": {},
   "source": [
    "## 11. Виміряти час виконання основних операцій (пошук, вставка, видалення) для різних типів даних."
   ]
  },
  {
   "cell_type": "code",
   "execution_count": 36,
   "id": "e2418b33-6e0c-4043-8016-189505db5173",
   "metadata": {},
   "outputs": [
    {
     "name": "stdout",
     "output_type": "stream",
     "text": [
      "Тестування з цілими числами:\n",
      "Вставка (цілі числа): 0.009944 сек\n",
      "Пошук (цілі числа): 0.008773 сек\n",
      "Видалення (цілі числа): 0.005618 сек\n",
      "\n",
      "Тестування з рядками:\n",
      "Вставка (рядки): 0.011821 сек\n",
      "Пошук (рядки): 0.007608 сек\n",
      "Видалення (рядки): 0.007669 сек\n",
      "\n",
      "Тестування зі списками:\n",
      "Вставка (списки): 0.009715 сек\n",
      "Пошук (списки): 0.009827 сек\n",
      "Видалення (списки): 0.005912 сек\n",
      "\n",
      "Тестування зі словниками:\n",
      "Вставка (словники): 0.010217 сек\n",
      "Пошук (словники): 0.008070 сек\n",
      "Видалення (словники): 0.007838 сек\n",
      "\n",
      "Тестування з об'єктами:\n",
      "Вставка (об'єкти): 0.012573 сек\n",
      "Пошук (об'єкти): 0.007920 сек\n",
      "Видалення (об'єкти): 0.008012 сек\n"
     ]
    }
   ],
   "source": [
    "import timeit\n",
    "import random\n",
    "\n",
    "def measure_hash_table_time(data, data_type_name):\n",
    "   \n",
    "    def insert_data():\n",
    "        hash_table = {}\n",
    "        for i, item in enumerate(data):\n",
    "            hash_table[i] = item\n",
    "        return hash_table\n",
    "\n",
    "    def search_data(hash_table):\n",
    "        for i in range(len(data)):\n",
    "            hash_table.get(i)\n",
    "\n",
    "    def delete_data(hash_table):\n",
    "        for i in range(len(data)):\n",
    "            hash_table.pop(i, None)\n",
    "\n",
    "    insert_time = timeit.timeit(insert_data, number=100)\n",
    "    print(f\"Вставка ({data_type_name}): {insert_time:.6f} сек\")\n",
    "\n",
    "    hash_table = insert_data() \n",
    "    search_time = timeit.timeit(lambda: search_data(hash_table), number=100)\n",
    "    print(f\"Пошук ({data_type_name}): {search_time:.6f} сек\")\n",
    "\n",
    "    delete_time = timeit.timeit(lambda: delete_data(hash_table), number=100)\n",
    "    print(f\"Видалення ({data_type_name}): {delete_time:.6f} сек\")\n",
    "\n",
    "data_int = list(range(1000))\n",
    "print(\"Тестування з цілими числами:\")\n",
    "measure_hash_table_time(data_int, \"цілі числа\")\n",
    "\n",
    "data_str = [str(i) for i in range(1000)]\n",
    "print(\"\\nТестування з рядками:\")\n",
    "measure_hash_table_time(data_str, \"рядки\")\n",
    "\n",
    "data_list = [[i] for i in range(1000)]\n",
    "print(\"\\nТестування зі списками:\")\n",
    "measure_hash_table_time(data_list, \"списки\")\n",
    "\n",
    "data_dict = [{str(i): i} for i in range(1000)]\n",
    "print(\"\\nТестування зі словниками:\")\n",
    "measure_hash_table_time(data_dict, \"словники\")\n",
    "\n",
    "class MyObject:\n",
    "    def __init__(self, value):\n",
    "        self.value = value\n",
    "\n",
    "    def __eq__(self, other):\n",
    "        return self.value == other.value\n",
    "\n",
    "data_obj = [MyObject(i) for i in range(1000)]\n",
    "print(\"\\nТестування з об'єктами:\")\n",
    "measure_hash_table_time(data_obj, \"об'єкти\")\n"
   ]
  },
  {
   "cell_type": "markdown",
   "id": "4c137238-6a3c-4381-9bc1-b36ce0fa4bfb",
   "metadata": {},
   "source": [
    "## 12. Порівняти результати для різних типів даних."
   ]
  },
  {
   "cell_type": "markdown",
   "id": "1c3e53a3-3c7c-4c9e-9c68-e2778c7550a0",
   "metadata": {},
   "source": [
    "### Цілі числа - Загалом найшвидші серед інших типів даних (в списках швидкість може бути більша, тому що там як ключ використовувалися цілі числа, об'єкт використаний для тестування був простим, тому він також дуже швидко був прохешований).\n",
    "### Рядки - Трохи повільніші за цілі числа та складніші для хешування та порівняння.\n",
    "### Списки - В цілому повільні, але є опція с ключами де швидкість зростає.\n",
    "### Словники - Повільні.\n",
    "### Об'єкти - Залежить від складності об'єкта, в нас він простий тому він має велику швидкість."
   ]
  },
  {
   "cell_type": "markdown",
   "id": "2eaef916-5cf4-449e-9612-4d06ceb1502b",
   "metadata": {},
   "source": [
    "## 13. Контрольні запитання"
   ]
  },
  {
   "cell_type": "markdown",
   "id": "69fe5f9c-9da1-43c1-bb05-820ac4a5de0d",
   "metadata": {},
   "source": [
    "### 1. Бінарне дерево - це ієрархічна структура даних, де кожен вузол має не більше двох дочірніх вузлів. Бінарне дерево пошуку - це бінарне дерево, в якому для кожного вузла всі ключі в лівому піддереві менші за ключ вузла, а всі ключі в правому піддереві більші.\n",
    "### 2. Бінарне дерево - це ієрархічна структура даних, де кожен вузол має не більше двох дочірніх вузлів, але порядок вузлів не має особливого значення. Бінарна купа - це специфічне бінарне дерево, яке задовольняє властивість купи: значення батьківського вузла завжди більше (або менше) значень його дочірніх вузлів, і воно, як правило, є повним або майже повним деревом.\n",
    "### 3. Бінарне дерево - кожен вузол має не більше двох дочірніх вузлів (лівий і правий), простий у реалізації та доволі швидкий. Бінарне дерево пошуку - бінарне дерево, де для кожного вузла всі ключі в лівому піддереві менші за ключ вузла, а всі ключі в правому піддереві більші, характерний швидким пошуком, вставкою та видаленням в середньому випадку (O(log n)). Купа - бінарне дерево, яке задовольняє властивість купи: значення батьківського вузла завжди більше або менше значень його дочірніх вузлів, характерний швидким отриманням максимального або мінімального елемента (O(1)). Збалансовані дерева - бінарні дерева пошуку, які підтримують баланс, щоб запобігти виродженню в зв'язаний список. Гарантований швидкий пошук, вставка та видалення з складністю (O(log n)).\n",
    "### 4. Пошук даних , сортування , ієрархічні структури даних , дерева рішень.\n",
    "### 5. Купа організована таким чином, що корінь дерева містить найбільший або найменший елемент. Алгоритм вставкою виконується наступним чином: на останній рівень дерева додається новий елемент, який по черзі порівнюється з кожним \"батьком\" до тих пір, поки не восстановиться правильна ієрархія купи. Тоді як вилучення виконується з \"коріння\" : корінь замінюється останнім елементом купи, видаляється, після цього вузол порівнюється вже з \"дітьми\", поки не буде відновлена купа. \n",
    "### 6. Пріоритетна черга, пошук найбільших/найменших елементів, сортування за допомогою купи, злиття списків, дийкстра, поділ навантаження, інше.\n",
    "### 7. Це функція, яка перетворює вхідні дані, наприклад, рядок або число у фіксоване числове значення — геш-ключ. Цей ключ використовується для визначення індексу комірки в хеш-таблиці, де будуть зберігатися або шукатися дані.\n",
    "### 8. Метод ланцюгів - кожна комірка хеш-таблиці містить покажчик на зв'язаний список елементів, які хешуються в цей індекс. Переваги: простий, може обробляти велику кількість колізій. Недоліки: може призвести до погіршення продуктивності, якщо ланцюжки стають довгими. Відкрита адресація - всі елементи зберігаються безпосередньо в хеш-таблиці, при виникненні колізії шукається інша порожня комірка для вставки нового елемента. Переваги: використовує менше пам'яті, ніж метод ланцюжків. Може бути швидшим, якщо хеш-таблиця не сильно заповнена. Недоліки: може бути складнішим у реалізації. Продуктивність погіршується, якщо хеш-таблиця стає заповненою. Метод об'єднаного хешування - розв'язує колізії за допомогою додаткових ланок між вузлами зв'язаних списків всередині таблиці. Переваги: як і метод ланцюжків, не має кластерних ефектів. Геш-таблиця може бути ефективно заповнена. Недоліки: складна реалізація."
   ]
  },
  {
   "cell_type": "markdown",
   "id": "df5fa21e-f970-4b01-9d16-5ae606dffd4d",
   "metadata": {},
   "source": [
    "## Висновки"
   ]
  },
  {
   "cell_type": "markdown",
   "id": "55f621a3-7d98-4011-a7f3-933e82908d83",
   "metadata": {},
   "source": [
    "### На цій лабораторній роботі ми познайомилися з різними структурами адних, такими як, дерево, купа, геш-таблиця. Вивчили основні їх алогритми та функції та навчилися з ними працювати."
   ]
  }
 ],
 "metadata": {
  "kernelspec": {
   "display_name": "Python [conda env:Mykhailyk_OpenCV]",
   "language": "python",
   "name": "conda-env-Mykhailyk_OpenCV-py"
  },
  "language_info": {
   "codemirror_mode": {
    "name": "ipython",
    "version": 3
   },
   "file_extension": ".py",
   "mimetype": "text/x-python",
   "name": "python",
   "nbconvert_exporter": "python",
   "pygments_lexer": "ipython3",
   "version": "3.13.2"
  }
 },
 "nbformat": 4,
 "nbformat_minor": 5
}
