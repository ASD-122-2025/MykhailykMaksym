{
 "cells": [
  {
   "cell_type": "markdown",
   "id": "3c7467c1-01f3-4dc8-b8ad-c500ad7dc5d9",
   "metadata": {},
   "source": [
    "# Лабораторна робота 4"
   ]
  },
  {
   "cell_type": "markdown",
   "id": "3328ff9f-460e-48e8-a630-6389d5641bfa",
   "metadata": {},
   "source": [
    "## Тема: Рекурсія. Стратегія «розділяй і володарюй»\n",
    "## Мета: Засвоїти технологію реалізації рекурсивних алгоритмів засобами Python і оцінювання їх складності з використанням головної теореми рекурсії."
   ]
  },
  {
   "cell_type": "markdown",
   "id": "138a7c6a-23b1-4ca4-bcdd-db10610e234e",
   "metadata": {},
   "source": [
    "## 1. Реалізувати процедуру обчислення факторіалу за допомогою циклу for. Оцінити асимптотичну складність алгоритму."
   ]
  },
  {
   "cell_type": "code",
   "execution_count": 4,
   "id": "9d00fe7c-86db-4856-88b6-c5130d02f844",
   "metadata": {},
   "outputs": [],
   "source": [
    "def find_factorial(n):\n",
    "    result = 1\n",
    "    for i in range(1, n + 1):\n",
    "        result *= i\n",
    "    return result"
   ]
  },
  {
   "cell_type": "markdown",
   "id": "f50290bd-45fd-41b1-b1ca-a8f9cc7e54e1",
   "metadata": {},
   "source": [
    "### Асимптотична складність цього алгоритму - O(n). Якщо росписувати формулу, то матимемо такий результат:\n",
    "### T(n) = c2 + c3n + c4(n - 1) + c5 = (c3 + c4)*n + (c2 - c4 + c5), де с - це кожен рядок коду."
   ]
  },
  {
   "cell_type": "markdown",
   "id": "9edd6b14-8ee2-476f-a85a-67a86c8dcc8c",
   "metadata": {},
   "source": [
    "## 2. Оцінити асимптотичну складність рекурсивного алгоритму обчислення факторіалу."
   ]
  },
  {
   "cell_type": "code",
   "execution_count": 7,
   "id": "ffbeeac7-3363-4e00-9f2a-f39c9c0a3756",
   "metadata": {},
   "outputs": [],
   "source": [
    "def factorial(n):\n",
    "    if n == 0 or n == 1:\n",
    "        return 1\n",
    "    else:\n",
    "        return n * factorial(n - 1)"
   ]
  },
  {
   "cell_type": "markdown",
   "id": "61c48648-b473-4022-9078-35d715899525",
   "metadata": {},
   "source": [
    "### Асимптотична складність цього алгоритму - O(n), також її можна записати як T(n)=d+(n−1)c=Θ(n)."
   ]
  },
  {
   "cell_type": "markdown",
   "id": "e05edd57-0436-470e-916e-57fb9a47e352",
   "metadata": {},
   "source": [
    "## 3. Оцінити асимптотичну складність рекурсивного алгоритму обчислення n-го числа Фібоначчі."
   ]
  },
  {
   "cell_type": "code",
   "execution_count": 10,
   "id": "85c64d4f-a73e-4cb8-96f1-c0b7047b2ea1",
   "metadata": {},
   "outputs": [],
   "source": [
    "def fibonacci(n):\n",
    "    if n == 0:\n",
    "        return 0\n",
    "    if n in (1, 2):\n",
    "        return 1\n",
    "    return fibonacci(n - 1) + fibonacci(n - 2)"
   ]
  },
  {
   "cell_type": "markdown",
   "id": "d0c59a65-c9e3-4bb3-ae60-0cc08e84540d",
   "metadata": {},
   "source": [
    "### Асимптотична складність цього алгоритму - O(2^n). Також можна записати як T(n)=T(n−1)+T(n−2)+c=Θ(2^n)"
   ]
  },
  {
   "cell_type": "markdown",
   "id": "a15b9183-0565-4506-8fb1-a1ee009be101",
   "metadata": {},
   "source": [
    "## 4. Оцінити асимптотичну складність алгоритму сортування злиттям, використовуючи головну теорему рекурсії."
   ]
  },
  {
   "cell_type": "code",
   "execution_count": 13,
   "id": "5d1c4e29-74f7-43bb-bb51-7be3bf2b479f",
   "metadata": {},
   "outputs": [],
   "source": [
    "def merge(left, right):    \n",
    "    result = []\n",
    "    i, j = 0, 0\n",
    "    while i < len(left) and j < len(right):\n",
    "        if left[i] <= right[j]:\n",
    "            result.append(left[i])\n",
    "            i += 1\n",
    "        else:\n",
    "            result.append(right[j])\n",
    "            j += 1\n",
    "    result += left[i:]\n",
    "    result += right[j:]\n",
    "    return result\n",
    "\n",
    "def mergesort(list):\n",
    "    if len(list) < 2:\n",
    "        return list\n",
    "    middle = len(list) // 2\n",
    "    left = mergesort(list[:middle])\n",
    "    right = mergesort(list[middle:])\n",
    "    return merge(left, right)"
   ]
  },
  {
   "cell_type": "markdown",
   "id": "deec81a0-6c30-490d-94e8-f97665e5d88e",
   "metadata": {},
   "source": [
    "### Асимптотична складність данного алгоритму - O(nlog(n)). Можемо записати T(n) = Θ(n * log n) = Θ(n log n)."
   ]
  },
  {
   "cell_type": "markdown",
   "id": "83595fad-d340-40f5-8193-27f917e048dc",
   "metadata": {},
   "source": [
    "## 5. Контрольні питання."
   ]
  },
  {
   "cell_type": "markdown",
   "id": "f63da9d7-1793-4f54-a803-e7c22fb37ee1",
   "metadata": {},
   "source": [
    "### 1. Ω-нотація вказує на мінімальну кількість операцій, які потрібні для розв'язання задачі в найкращому випадку.\n",
    "### 2. F(N) = O(N^3)\n",
    "### 3. O(N^10)\n",
    "### 4. O(N^1.3)\n",
    "### 5. Це розділення великої задачі на менші незалежні підзадачі, які можна виконувати одночасно (паралельно) на декількох процесорах або ядрах.\n",
    "### 6. Оптимізація коду, декомпозиція."
   ]
  },
  {
   "cell_type": "markdown",
   "id": "85647c6e-d705-405d-a962-d402d3f4b6c5",
   "metadata": {},
   "source": [
    "## 6. Висновок."
   ]
  },
  {
   "cell_type": "markdown",
   "id": "4de3e877-26de-48ad-b850-df50821e94cc",
   "metadata": {},
   "source": [
    "### В ході цієї лабораторнох роботи ми засвоїли технологію реалізації рекурсивних алгоритмів і оцінювати їх складності."
   ]
  }
 ],
 "metadata": {
  "kernelspec": {
   "display_name": "Python [conda env:base] *",
   "language": "python",
   "name": "conda-base-py"
  },
  "language_info": {
   "codemirror_mode": {
    "name": "ipython",
    "version": 3
   },
   "file_extension": ".py",
   "mimetype": "text/x-python",
   "name": "python",
   "nbconvert_exporter": "python",
   "pygments_lexer": "ipython3",
   "version": "3.12.7"
  }
 },
 "nbformat": 4,
 "nbformat_minor": 5
}
